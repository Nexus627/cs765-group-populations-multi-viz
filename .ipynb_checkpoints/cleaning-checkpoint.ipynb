{
 "cells": [
  {
   "cell_type": "code",
   "execution_count": 1,
   "id": "44ab0d39",
   "metadata": {},
   "outputs": [],
   "source": [
    "import numpy as np\n",
    "import numpy as np\n",
    "import matplotlib as mpl\n",
    "import matplotlib.pyplot as plt\n",
    "import pandas as pd\n",
    "import re\n",
    "import seaborn as sns\n",
    "\n",
    "#setups\n",
    "%matplotlib inline\n",
    "sns.set()\n",
    "#this will let you see all the columns that are in the dataset\n",
    "pd.set_option('display.max_columns', None)\n",
    "pd.set_option('display.max_colwidth', None)\n",
    "pd.set_option('display.max_rows', None)"
   ]
  },
  {
   "cell_type": "code",
   "execution_count": 2,
   "id": "4f8804ed",
   "metadata": {},
   "outputs": [],
   "source": [
    "columns_to_keep = ['TUCASEID','PEEDUCA','PEHSPNON','PTDTRACE','TEAGE','TELFS','TESEX','TESPEMPNOT','TRCHILDNUM','TRDPFTPT','TRERNWA','TUFNWGTP','TUYEAR','HEFAMINC']\n",
    "summ_demo_iter = pd.read_csv('./atussum_0321.csv', iterator= True, chunksize=10000, usecols=columns_to_keep)\n",
    "# summ_demo_iter = pd.read_csv('./atussum_1121-reduced.csv', iterator= True, chunksize=10000, usecols=columns_to_keep)\n",
    "summ_list = []\n",
    "for chunk in summ_demo_iter:\n",
    "    summ_temp = chunk[(chunk.TUYEAR >= 2008)]\n",
    "    summ_temp = summ_temp.rename(columns={'TUCASEID':'case_id',\n",
    "                                          'PEEDUCA':'education',\n",
    "                                          'PEHSPNON':'hispanic',\n",
    "                                          'PTDTRACE':'ethnicity',\n",
    "                                          'TEAGE':'age',\n",
    "                                          'TELFS':'employed',\n",
    "                                          'TESEX':'gender',\n",
    "                                          'TESPEMPNOT':'spouse_empl',\n",
    "                                          'TRCHILDNUM':'num_child',\n",
    "                                          'TRDPFTPT':'full_part_wrk',\n",
    "                                          'TRERNWA':'weekly_earn',\n",
    "                                          'TUFNWGTP':'weights',\n",
    "                                          'TUYEAR':'year'})\n",
    "    summ_list.append(summ_temp)\n",
    "summ_demo_final = pd.concat(summ_list)"
   ]
  },
  {
   "cell_type": "code",
   "execution_count": 3,
   "id": "cfdeaaa0",
   "metadata": {},
   "outputs": [
    {
     "data": {
      "text/html": [
       "<div>\n",
       "<style scoped>\n",
       "    .dataframe tbody tr th:only-of-type {\n",
       "        vertical-align: middle;\n",
       "    }\n",
       "\n",
       "    .dataframe tbody tr th {\n",
       "        vertical-align: top;\n",
       "    }\n",
       "\n",
       "    .dataframe thead th {\n",
       "        text-align: right;\n",
       "    }\n",
       "</style>\n",
       "<table border=\"1\" class=\"dataframe\">\n",
       "  <thead>\n",
       "    <tr style=\"text-align: right;\">\n",
       "      <th></th>\n",
       "      <th>case_id</th>\n",
       "      <th>education</th>\n",
       "      <th>hispanic</th>\n",
       "      <th>ethnicity</th>\n",
       "      <th>age</th>\n",
       "      <th>employed</th>\n",
       "      <th>gender</th>\n",
       "      <th>spouse_empl</th>\n",
       "      <th>num_child</th>\n",
       "      <th>full_part_wrk</th>\n",
       "      <th>weekly_earn</th>\n",
       "      <th>weights</th>\n",
       "      <th>year</th>\n",
       "    </tr>\n",
       "  </thead>\n",
       "  <tbody>\n",
       "    <tr>\n",
       "      <th>72922</th>\n",
       "      <td>20080101080013</td>\n",
       "      <td>36</td>\n",
       "      <td>1</td>\n",
       "      <td>1</td>\n",
       "      <td>55</td>\n",
       "      <td>1</td>\n",
       "      <td>1</td>\n",
       "      <td>-1</td>\n",
       "      <td>0</td>\n",
       "      <td>1</td>\n",
       "      <td>240384</td>\n",
       "      <td>1.742496e+07</td>\n",
       "      <td>2008</td>\n",
       "    </tr>\n",
       "  </tbody>\n",
       "</table>\n",
       "</div>"
      ],
      "text/plain": [
       "              case_id  education  hispanic  ethnicity  age  employed  gender  \\\n",
       "72922  20080101080013         36         1          1   55         1       1   \n",
       "\n",
       "       spouse_empl  num_child  full_part_wrk  weekly_earn       weights  year  \n",
       "72922           -1          0              1       240384  1.742496e+07  2008  "
      ]
     },
     "execution_count": 3,
     "metadata": {},
     "output_type": "execute_result"
    }
   ],
   "source": [
    "summ_demo_final.head(1)"
   ]
  },
  {
   "cell_type": "code",
   "execution_count": null,
   "id": "4c201d7e",
   "metadata": {},
   "outputs": [],
   "source": []
  }
 ],
 "metadata": {
  "kernelspec": {
   "display_name": "Python 3",
   "language": "python",
   "name": "python3"
  },
  "language_info": {
   "codemirror_mode": {
    "name": "ipython",
    "version": 3
   },
   "file_extension": ".py",
   "mimetype": "text/x-python",
   "name": "python",
   "nbconvert_exporter": "python",
   "pygments_lexer": "ipython3",
   "version": "3.8.8"
  }
 },
 "nbformat": 4,
 "nbformat_minor": 5
}
